{
 "cells": [
  {
   "cell_type": "code",
   "execution_count": 1,
   "metadata": {},
   "outputs": [
    {
     "name": "stdout",
     "output_type": "stream",
     "text": [
      "Retrieving notices: ...working... done\n",
      "Collecting package metadata (current_repodata.json): done\n",
      "Solving environment: done\n",
      "\n",
      "\n",
      "==> WARNING: A newer version of conda exists. <==\n",
      "  current version: 23.7.4\n",
      "  latest version: 24.1.2\n",
      "\n",
      "Please update conda by running\n",
      "\n",
      "    $ conda update -n base -c defaults conda\n",
      "\n",
      "Or to minimize the number of packages updated during conda update use\n",
      "\n",
      "     conda install conda=24.1.2\n",
      "\n",
      "\n",
      "\n",
      "# All requested packages already installed.\n",
      "\n",
      "\n",
      "Note: you may need to restart the kernel to use updated packages.\n"
     ]
    }
   ],
   "source": [
    "%conda install matplotlib -y\n",
    "\n",
    "import matplotlib.pyplot as plt\n",
    "import numpy as np\n",
    "import pandas as pd"
   ]
  },
  {
   "cell_type": "markdown",
   "metadata": {},
   "source": [
    "# 7회차 과제\n",
    "목표: 정규성 검정 및 T 검정 수행하기.  \n",
    "(수업 자료의 `과제 연계 실습` 참고)"
   ]
  },
  {
   "cell_type": "markdown",
   "metadata": {},
   "source": [
    "## 선택형 문제"
   ]
  },
  {
   "cell_type": "markdown",
   "metadata": {},
   "source": [
    "1. P-value란 귀무 가설을 참으로 가정하고 표본의 결과가 실제로 나타날 확률을 계산한 것이다."
   ]
  },
  {
   "cell_type": "markdown",
   "metadata": {},
   "source": [
    "2. P-value가 낮다는 것은 귀무 가설이 참일 때 지금과 같은 결과가 관측될 확률이 낮다는 것을 의미한다."
   ]
  },
  {
   "cell_type": "markdown",
   "metadata": {},
   "source": [
    "3. P-value가 높으면 귀무 가설은 채택히고 대립 가설은 기각한다."
   ]
  },
  {
   "cell_type": "markdown",
   "metadata": {},
   "source": [
    "## 정규성 검정"
   ]
  },
  {
   "cell_type": "markdown",
   "metadata": {},
   "source": [
    "주어진 분포가 정규 분포를 따르는 모집단으로부터 추출되었는지 올바른 분석법을 사용해 검정하시오."
   ]
  },
  {
   "cell_type": "code",
   "execution_count": 7,
   "metadata": {},
   "outputs": [],
   "source": [
    "from scipy import stats\n",
    "q1 = stats.cauchy().rvs(8000)\n",
    "# generate random sample 'q1' from cauchy distribution\n",
    "# q1 now includes 8000 random numbers"
   ]
  },
  {
   "cell_type": "code",
   "execution_count": 8,
   "metadata": {},
   "outputs": [
    {
     "name": "stdout",
     "output_type": "stream",
     "text": [
      "test statistics: 1565150885.772663, p-value: 0.0\n"
     ]
    }
   ],
   "source": [
    "# Jaque-Bera Test\n",
    "\n",
    "# 귀무 가설(H0): 데이터가 정규 분포를 따른다\n",
    "# 대립 가설(H1): 데이터가 정규 분포를 따르지 않는다\n",
    "test_stat, pv = stats.jarque_bera(q1)\n",
    "print(f\"test statistics: {test_stat}, p-value: {pv}\")"
   ]
  },
  {
   "cell_type": "markdown",
   "metadata": {},
   "source": [
    "p-value가 0이므로 귀무 가설 기각, 대립 가설 채택.\n",
    "\n",
    "데이터는 정규 분포를 따르지 않음"
   ]
  },
  {
   "cell_type": "code",
   "execution_count": 16,
   "metadata": {},
   "outputs": [
    {
     "data": {
      "image/png": "[encoded data removed]",
      "text/plain": [
       "<Figure size 640x480 with 1 Axes>"
      ]
     },
     "metadata": {},
     "output_type": "display_data"
    }
   ],
   "source": [
    "# Q-Q Plot\n",
    "\n",
    "fig = plt.figure()\n",
    "ax1 = fig.add_subplot(111)\n",
    "res = stats.probplot(q1, dist=stats.norm(0, 2), plot=ax1)"
   ]
  },
  {
   "cell_type": "markdown",
   "metadata": {},
   "source": [
    "끝부분에서 차이가 나기 때문에 데이터는 정규 분포를 따르지 않는다"
   ]
  },
  {
   "cell_type": "code",
   "execution_count": 17,
   "metadata": {},
   "outputs": [
    {
     "name": "stdout",
     "output_type": "stream",
     "text": [
      "test statistics: 0.4031035541883544, p-value: 0.0\n"
     ]
    }
   ],
   "source": [
    "# Kolmogorov-Smirnov Test (표본 수 = 8000이므로 2000 이상)\n",
    "\n",
    "# 귀무 가설(H0): 데이터가 정규 분포를 따른다\n",
    "# 대립 가설(H1): 데이터가 정규 분포를 따르지 않는다\n",
    "\n",
    "test_stat, pv = stats.kstest(q1, 'norm', args=(q1.mean(), q1.var() ** 0.5))\n",
    "print(f\"test statistics: {test_stat}, p-value: {pv}\")"
   ]
  },
  {
   "cell_type": "markdown",
   "metadata": {},
   "source": [
    "p-value가 0이므로 귀무 가설 기각, 대립 가설 채택.\n",
    "\n",
    "데이터는 정규 분포를 따르지 않음"
   ]
  },
  {
   "cell_type": "markdown",
   "metadata": {},
   "source": [
    "## T 검정"
   ]
  },
  {
   "cell_type": "markdown",
   "metadata": {},
   "source": [
    "주어진 상황에 맞는 적절한 t 검정을 수행하시오."
   ]
  },
  {
   "cell_type": "markdown",
   "metadata": {},
   "source": [
    "### 상황 1. 실험군과 대조군"
   ]
  },
  {
   "cell_type": "markdown",
   "metadata": {},
   "source": [
    "신약의 효과를 확인하기 위해 희귀한 뇌 질환, '웨스트 증후군'을 겪고 있는 100명의 환자를 모집하였다.  \n",
    "연구자는 그 중 50 명에게는 진짜 약을 투여하고 나머지 50 명에게는 위약을 투여한 뒤 차도를 지켜보았다.  \n",
    "주어진 데이터가 각 집단에서 5명의 표본을 추출한 결과라고 할 때, 정말로 이 신약이 효과가 있는지 통계적 방법으로 검정하시오."
   ]
  },
  {
   "cell_type": "code",
   "execution_count": 18,
   "metadata": {},
   "outputs": [],
   "source": [
    "x = np.linspace(1, 6, 5)\n",
    "real = stats.uniform(0.4, 0.3).rvs(size=5)\n",
    "placebo = stats.uniform(0.1, 0.3).rvs(size=5)"
   ]
  },
  {
   "cell_type": "markdown",
   "metadata": {},
   "source": [
    "- 귀무 가설(H0): 쌍을 이루는 두 모집단의 평균은 같다\n",
    "- 대립 가설(H1): 쌍을 이루는 두 모집단의 평균은 다르다"
   ]
  },
  {
   "cell_type": "code",
   "execution_count": 19,
   "metadata": {},
   "outputs": [
    {
     "name": "stdout",
     "output_type": "stream",
     "text": [
      "실제 약을 투여하였을 때 표본 평균: 0.5685867477584804\n",
      "위약을 투여하였을 때 표본 평균: 0.22761559994629166\n"
     ]
    },
    {
     "data": {
      "image/png": "[encoded data removed]",
      "text/plain": [
       "<Figure size 640x480 with 1 Axes>"
      ]
     },
     "metadata": {},
     "output_type": "display_data"
    }
   ],
   "source": [
    "# 그래프\n",
    "plt.plot(x,real)\n",
    "plt.plot(x,placebo)\n",
    "print(f\"실제 약을 투여하였을 때 표본 평균: {real.mean()}\")\n",
    "print(f\"위약을 투여하였을 때 표본 평균: {placebo.mean()}\")"
   ]
  },
  {
   "cell_type": "code",
   "execution_count": 20,
   "metadata": {},
   "outputs": [
    {
     "name": "stdout",
     "output_type": "stream",
     "text": [
      "test statistics: 6.800699008712125, p-value: 0.0024422591237360353\n"
     ]
    }
   ],
   "source": [
    "# T-Test\n",
    "test_stat, pv = stats.ttest_rel(real,placebo)\n",
    "print(f\"test statistics: {test_stat}, p-value: {pv}\")"
   ]
  },
  {
   "cell_type": "markdown",
   "metadata": {},
   "source": [
    "### 상황 2. 중간고사 난이도"
   ]
  },
  {
   "cell_type": "markdown",
   "metadata": {},
   "source": [
    "서로 인접한 두 고등학교의 중간고사 난이도가 유사한지 판단하기 위해, 각 학교에서 10명씩을 골라 이번 수학시험 점수를 물어보았다.  \n",
    "이를 이용해 두 학교의 중간고사 난이도가 비슷했는지 통계적 방법으로 검정하시오."
   ]
  },
  {
   "cell_type": "code",
   "execution_count": 21,
   "metadata": {},
   "outputs": [],
   "source": [
    "x = np.linspace(1, 11, 10)\n",
    "school_A = stats.uniform(65, 0.01).rvs(size=10)\n",
    "school_B = stats.uniform(63, 10).rvs(size=10)"
   ]
  },
  {
   "cell_type": "markdown",
   "metadata": {},
   "source": [
    "- 귀무 가설(H0): 독립된 두 모집단의 평균은 같다\n",
    "- 대립 가설(H1): 독립된 두 모집단의 평균은 다르다"
   ]
  },
  {
   "cell_type": "code",
   "execution_count": 22,
   "metadata": {},
   "outputs": [
    {
     "name": "stdout",
     "output_type": "stream",
     "text": [
      "A 고등학교 표본 평균: 65.00518230163762\n",
      "B 고등학교 표본 평균: 68.87414848807487\n"
     ]
    },
    {
     "data": {
      "image/png": "[encoded data removed]",
      "text/plain": [
       "<Figure size 640x480 with 1 Axes>"
      ]
     },
     "metadata": {},
     "output_type": "display_data"
    }
   ],
   "source": [
    "# 그래프\n",
    "plt.plot(x,school_A)\n",
    "plt.plot(x,school_B)\n",
    "print(f\"A 고등학교 표본 평균: {school_A.mean()}\")\n",
    "print(f\"B 고등학교 표본 평균: {school_B.mean()}\")"
   ]
  },
  {
   "cell_type": "code",
   "execution_count": 25,
   "metadata": {},
   "outputs": [
    {
     "name": "stdout",
     "output_type": "stream",
     "text": [
      "test statistics: -3.1096691871127393, p-value: 0.0060499630946880606\n"
     ]
    }
   ],
   "source": [
    "# T-Test\n",
    "test_stat, pv = stats.ttest_ind(school_A, school_B)\n",
    "print(f\"test statistics: {test_stat}, p-value: {pv}\")"
   ]
  },
  {
   "cell_type": "markdown",
   "metadata": {},
   "source": [
    "## 카이제곱 검정"
   ]
  },
  {
   "cell_type": "markdown",
   "metadata": {},
   "source": [
    "어떤 식당에서 2027년 한 해 동안 요일별 강우 횟수와 점심 시간 만석 횟수를 함께 조사하였다.  \n",
    "점심 시간 만석 여부와 강우 여부 사이의 연관성을 통계적 방법으로 검정하시오."
   ]
  },
  {
   "cell_type": "code",
   "execution_count": 10,
   "metadata": {},
   "outputs": [
    {
     "data": {
      "text/html": [
       "<div>\n",
       "<style scoped>\n",
       "    .dataframe tbody tr th:only-of-type {\n",
       "        vertical-align: middle;\n",
       "    }\n",
       "\n",
       "    .dataframe tbody tr th {\n",
       "        vertical-align: top;\n",
       "    }\n",
       "\n",
       "    .dataframe thead th {\n",
       "        text-align: right;\n",
       "    }\n",
       "</style>\n",
       "<table border=\"1\" class=\"dataframe\">\n",
       "  <thead>\n",
       "    <tr style=\"text-align: right;\">\n",
       "      <th></th>\n",
       "      <th>Full on sunny day</th>\n",
       "      <th>Full on rainy day</th>\n",
       "    </tr>\n",
       "  </thead>\n",
       "  <tbody>\n",
       "    <tr>\n",
       "      <th>Mon</th>\n",
       "      <td>18</td>\n",
       "      <td>10</td>\n",
       "    </tr>\n",
       "    <tr>\n",
       "      <th>Tue</th>\n",
       "      <td>8</td>\n",
       "      <td>3</td>\n",
       "    </tr>\n",
       "    <tr>\n",
       "      <th>Wed</th>\n",
       "      <td>6</td>\n",
       "      <td>2</td>\n",
       "    </tr>\n",
       "    <tr>\n",
       "      <th>Thu</th>\n",
       "      <td>4</td>\n",
       "      <td>3</td>\n",
       "    </tr>\n",
       "    <tr>\n",
       "      <th>Fri</th>\n",
       "      <td>5</td>\n",
       "      <td>4</td>\n",
       "    </tr>\n",
       "    <tr>\n",
       "      <th>Sat</th>\n",
       "      <td>7</td>\n",
       "      <td>5</td>\n",
       "    </tr>\n",
       "    <tr>\n",
       "      <th>Sun</th>\n",
       "      <td>20</td>\n",
       "      <td>12</td>\n",
       "    </tr>\n",
       "  </tbody>\n",
       "</table>\n",
       "</div>"
      ],
      "text/plain": [
       "     Full on sunny day  Full on rainy day\n",
       "Mon                 18                 10\n",
       "Tue                  8                  3\n",
       "Wed                  6                  2\n",
       "Thu                  4                  3\n",
       "Fri                  5                  4\n",
       "Sat                  7                  5\n",
       "Sun                 20                 12"
      ]
     },
     "metadata": {},
     "output_type": "display_data"
    }
   ],
   "source": [
    "from scipy.stats import chi2_contingency\n",
    "\n",
    "fullrainy = pd.DataFrame({'Full on sunny day': [18, 8, 6, 4, 5, 7, 20], 'Full on rainy day': [10, 3, 2, 3, 4, 5, 12]}, index=['Mon', 'Tue', 'Wed', 'Thu', 'Fri', 'Sat', 'Sun'])\n",
    "display(fullrainy)"
   ]
  },
  {
   "cell_type": "code",
   "execution_count": 11,
   "metadata": {},
   "outputs": [
    {
     "data": {
      "text/html": [
       "<div>\n",
       "<style scoped>\n",
       "    .dataframe tbody tr th:only-of-type {\n",
       "        vertical-align: middle;\n",
       "    }\n",
       "\n",
       "    .dataframe tbody tr th {\n",
       "        vertical-align: top;\n",
       "    }\n",
       "\n",
       "    .dataframe thead th {\n",
       "        text-align: right;\n",
       "    }\n",
       "</style>\n",
       "<table border=\"1\" class=\"dataframe\">\n",
       "  <thead>\n",
       "    <tr style=\"text-align: right;\">\n",
       "      <th></th>\n",
       "      <th>Full on sunny day</th>\n",
       "      <th>Full on rainy day</th>\n",
       "      <th>exp</th>\n",
       "    </tr>\n",
       "  </thead>\n",
       "  <tbody>\n",
       "    <tr>\n",
       "      <th>Mon</th>\n",
       "      <td>18</td>\n",
       "      <td>10</td>\n",
       "      <td>5</td>\n",
       "    </tr>\n",
       "    <tr>\n",
       "      <th>Tue</th>\n",
       "      <td>8</td>\n",
       "      <td>3</td>\n",
       "      <td>5</td>\n",
       "    </tr>\n",
       "    <tr>\n",
       "      <th>Wed</th>\n",
       "      <td>6</td>\n",
       "      <td>2</td>\n",
       "      <td>5</td>\n",
       "    </tr>\n",
       "    <tr>\n",
       "      <th>Thu</th>\n",
       "      <td>4</td>\n",
       "      <td>3</td>\n",
       "      <td>5</td>\n",
       "    </tr>\n",
       "    <tr>\n",
       "      <th>Fri</th>\n",
       "      <td>5</td>\n",
       "      <td>4</td>\n",
       "      <td>5</td>\n",
       "    </tr>\n",
       "    <tr>\n",
       "      <th>Sat</th>\n",
       "      <td>7</td>\n",
       "      <td>5</td>\n",
       "      <td>5</td>\n",
       "    </tr>\n",
       "    <tr>\n",
       "      <th>Sun</th>\n",
       "      <td>20</td>\n",
       "      <td>12</td>\n",
       "      <td>5</td>\n",
       "    </tr>\n",
       "  </tbody>\n",
       "</table>\n",
       "</div>"
      ],
      "text/plain": [
       "     Full on sunny day  Full on rainy day  exp\n",
       "Mon                 18                 10    5\n",
       "Tue                  8                  3    5\n",
       "Wed                  6                  2    5\n",
       "Thu                  4                  3    5\n",
       "Fri                  5                  4    5\n",
       "Sat                  7                  5    5\n",
       "Sun                 20                 12    5"
      ]
     },
     "metadata": {},
     "output_type": "display_data"
    }
   ],
   "source": [
    "exp = int(np.sum(fullrainy['Full on rainy day']) / 7)\n",
    "fullrainy['exp'] = [exp, exp, exp, exp, exp, exp, exp]\n",
    "display(fullrainy)"
   ]
  },
  {
   "cell_type": "markdown",
   "metadata": {},
   "source": [
    "귀무 가설 (H0):\\\n",
    "대립 가설 (H1): "
   ]
  },
  {
   "cell_type": "code",
   "execution_count": 12,
   "metadata": {},
   "outputs": [
    {
     "ename": "NameError",
     "evalue": "name 'chisquare' is not defined",
     "output_type": "error",
     "traceback": [
      "\u001b[0;31m---------------------------------------------------------------------------\u001b[0m",
      "\u001b[0;31mNameError\u001b[0m                                 Traceback (most recent call last)",
      "Cell \u001b[0;32mIn[12], line 1\u001b[0m\n\u001b[0;32m----> 1\u001b[0m res \u001b[38;5;241m=\u001b[39m chisquare(fullrainy[\u001b[38;5;124m'\u001b[39m\u001b[38;5;124m# rainy days\u001b[39m\u001b[38;5;124m'\u001b[39m], fullrainy[\u001b[38;5;124m'\u001b[39m\u001b[38;5;124mexp\u001b[39m\u001b[38;5;124m'\u001b[39m])\n\u001b[1;32m      2\u001b[0m \u001b[38;5;28mprint\u001b[39m(\u001b[38;5;124mf\u001b[39m\u001b[38;5;124m\"\u001b[39m\u001b[38;5;124mTest statistic is \u001b[39m\u001b[38;5;132;01m{\u001b[39;00mres\u001b[38;5;241m.\u001b[39mstatistic\u001b[38;5;132;01m}\u001b[39;00m\u001b[38;5;124m, and the p-value is \u001b[39m\u001b[38;5;132;01m{\u001b[39;00mres\u001b[38;5;241m.\u001b[39mpvalue\u001b[38;5;132;01m}\u001b[39;00m\u001b[38;5;124m\"\u001b[39m)\n",
      "\u001b[0;31mNameError\u001b[0m: name 'chisquare' is not defined"
     ]
    }
   ],
   "source": [
    "res = chisquare(fullrainy['# rainy days'], fullrainy['exp'])\n",
    "print(f\"Test statistic is {res.statistic}, and the p-value is {res.pvalue}\")"
   ]
  },
  {
   "cell_type": "markdown",
   "metadata": {},
   "source": [
    "카이제곱 부분만 끝내지 못했습니다..."
   ]
  },
  {
   "cell_type": "code",
   "execution_count": null,
   "metadata": {},
   "outputs": [],
   "source": []
  }
 ],
 "metadata": {
  "kernelspec": {
   "display_name": "Python 3 (ipykernel)",
   "language": "python",
   "name": "python3"
  },
  "language_info": {
   "codemirror_mode": {
    "name": "ipython",
    "version": 3
   },
   "file_extension": ".py",
   "mimetype": "text/x-python",
   "name": "python",
   "nbconvert_exporter": "python",
   "pygments_lexer": "ipython3",
   "version": "3.11.5"
  }
 },
 "nbformat": 4,
 "nbformat_minor": 2
}
