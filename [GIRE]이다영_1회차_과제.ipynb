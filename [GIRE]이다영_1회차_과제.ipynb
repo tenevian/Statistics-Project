{
 "cells": [
  {
   "cell_type": "code",
   "execution_count": 4,
   "metadata": {},
   "outputs": [],
   "source": [
    "import numpy as np\n",
    "import pandas as pd"
   ]
  },
  {
   "cell_type": "markdown",
   "metadata": {},
   "source": [
    "# 1회차 과제\n",
    "목표: NumPy와 Pandas를 활용한 데이터 탐구"
   ]
  },
  {
   "cell_type": "markdown",
   "metadata": {},
   "source": [
    "### csv 형태의 데이터 분석하기\n",
    "- `example_genome.CSV` 파일은 어떤 사람의 유전 정보를 담고 있다.\n",
    "- 이를 불러와 아래 질문에 답하시오."
   ]
  },
  {
   "cell_type": "code",
   "execution_count": 6,
   "metadata": {},
   "outputs": [
    {
     "name": "stdout",
     "output_type": "stream",
     "text": [
      "           rsid  chromosome  position genotype\n",
      "0     rs4477212           1     72017       AA\n",
      "1     rs3094315           1    742429      NaN\n",
      "2     rs3131972           1    742584       GG\n",
      "3    rs12124819           1    766409       AA\n",
      "4    rs11240777           1    788822       AG\n",
      "..          ...         ...       ...      ...\n",
      "388   rs2494428           1   2328934      NaN\n",
      "389  rs61750434           1   2329978       GG\n",
      "390  rs11811122           1   2335826       TT\n",
      "391   rs3935659           1   2341559       TT\n",
      "392  rs12731309           1   2342006       CT\n",
      "\n",
      "[393 rows x 4 columns]\n"
     ]
    }
   ],
   "source": [
    "# csv 데이터를 불러와 `genome` 변수에 DataFrame 형태로 저장하시오.\n",
    "df_from_csv = pd.read_csv('example_genome.CSV')\n",
    "genome = pd.DataFrame(data=df_from_csv)\n",
    "print(genome)"
   ]
  },
  {
   "cell_type": "code",
   "execution_count": 16,
   "metadata": {},
   "outputs": [
    {
     "name": "stdout",
     "output_type": "stream",
     "text": [
      "rsid          393\n",
      "chromosome    393\n",
      "position      393\n",
      "genotype      385\n",
      "dtype: int64\n"
     ]
    }
   ],
   "source": [
    "# 각 열의 데이터 개수는 몇 개인가?\n",
    "print(genome.count())"
   ]
  },
  {
   "cell_type": "code",
   "execution_count": 20,
   "metadata": {},
   "outputs": [
    {
     "name": "stdout",
     "output_type": "stream",
     "text": [
      "rsid          rs9442619\n",
      "chromosome            1\n",
      "position        2072365\n",
      "genotype             CC\n",
      "Name: 280, dtype: object\n"
     ]
    }
   ],
   "source": [
    "# 280번째 행의 값은 무엇인가?\n",
    "print(genome.loc [280])"
   ]
  },
  {
   "cell_type": "code",
   "execution_count": 21,
   "metadata": {},
   "outputs": [
    {
     "name": "stdout",
     "output_type": "stream",
     "text": [
      "AG\n"
     ]
    }
   ],
   "source": [
    "# 345번째 행의 유전자형(genotype)은 무엇인가?\n",
    "print(genome.loc[345,'genotype'])"
   ]
  },
  {
   "cell_type": "code",
   "execution_count": 21,
   "metadata": {},
   "outputs": [
    {
     "name": "stdout",
     "output_type": "stream",
     "text": [
      "rsid          rs2494428\n",
      "chromosome            1\n",
      "position        2328934\n",
      "genotype            NaN\n",
      "Name: 388, dtype: object\n"
     ]
    }
   ],
   "source": [
    "# rsid 값이 rs2494428인 행의 값은 무엇인가?\n",
    "### 인터넷 참고\n",
    "\n",
    "# Check if the term is present in the DataFrame\n",
    "mask = (genome == 'rs2494428')\n",
    "\n",
    "# Find the row and column where the term is located\n",
    "# np.where(mask) are 2 arrays each with row and column index\n",
    "row, col = np.where(mask)\n",
    "\n",
    "# Extract the indices\n",
    "row_index = row[0]\n",
    "\n",
    "print(genome.loc[row_index])"
   ]
  },
  {
   "cell_type": "code",
   "execution_count": null,
   "metadata": {},
   "outputs": [],
   "source": []
  }
 ],
 "metadata": {
  "kernelspec": {
   "display_name": "Python 3 (ipykernel)",
   "language": "python",
   "name": "python3"
  },
  "language_info": {
   "codemirror_mode": {
    "name": "ipython",
    "version": 3
   },
   "file_extension": ".py",
   "mimetype": "text/x-python",
   "name": "python",
   "nbconvert_exporter": "python",
   "pygments_lexer": "ipython3",
   "version": "3.11.5"
  }
 },
 "nbformat": 4,
 "nbformat_minor": 4
}
